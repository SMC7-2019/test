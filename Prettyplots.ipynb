{
 "cells": [
  {
   "cell_type": "code",
   "execution_count": 1,
   "metadata": {},
   "outputs": [],
   "source": [
    "import numpy as np\n",
    "import matplotlib.pyplot as plt\n",
    "from matplotlib.lines import Line2D"
   ]
  },
  {
   "cell_type": "code",
   "execution_count": 2,
   "metadata": {},
   "outputs": [],
   "source": [
    "joint_hier = [\n",
    "    ('head', 'neck', 'blue'),\n",
    "    ('neck', 'root', 'darkred'),\n",
    "    ('root', 'clavicle', 'brown'),\n",
    "    ('neck', 'leftShoulder', 'red'), \n",
    "    ('leftShoulder', 'leftElbow', 'darkred'), \n",
    "    ('leftElbow', 'leftWrist', 'orange'),\n",
    "    ('neck', 'rightShoulder', 'orange'), \n",
    "    ('rightShoulder', 'rightElbow', 'lightgreen'), \n",
    "    ('rightElbow', 'rightWrist', 'green'),\n",
    "    ('clavicle', 'leftHip', 'green'), \n",
    "    ('leftHip', 'leftKnee', 'lightgreen'), \n",
    "    ('leftKnee', 'leftAnkle', 'lightblue'),\n",
    "    ('clavicle', 'rightHip', 'lightblue'), \n",
    "    ('rightHip', 'rightKnee', 'cyan'), \n",
    "    ('rightKnee', 'rightAnkle', 'blue')\n",
    "]"
   ]
  },
  {
   "cell_type": "code",
   "execution_count": 3,
   "metadata": {},
   "outputs": [],
   "source": [
    "def plt_keyframe_curve(ax, keyframes, curve):\n",
    "    curve = curve / np.amax(curve)\n",
    "    ax.plot(range(0, len(curve)), curve, 'r', alpha=0.9)\n",
    "    ax.scatter(keyframes, curve[keyframes], color='k', marker=\"$F$\")\n",
    "    ax.set_xlim(0, len(curve))\n",
    "    ax.set_ylim(0.0, 1.2)\n",
    "    ax.set(xlabel='Samples [fs=30]')\n",
    "    ax.set(ylabel=r'Normalized angle $\\theta$, $\\theta$ $\\epsilon$ [0, $\\pi$]')\n",
    "    ax.legend(['Curve', 'Keyframe'])"
   ]
  },
  {
   "cell_type": "code",
   "execution_count": 4,
   "metadata": {},
   "outputs": [],
   "source": [
    "def plt_keyframe_skeleton(ax, keyframes, positions, scale=200.):\n",
    "    pos = positions\n",
    "    pos['root'] = np.zeros_like(pos['head'])\n",
    "    pos['neck'] = (pos['leftShoulder'] + pos['rightShoulder']) / 2.\n",
    "    pos['clavicle'] = (pos['leftHip'] + pos['rightHip']) / 2.\n",
    "    \n",
    "    for frame in keyframes:\n",
    "        lines = []\n",
    "        for f, t, c in joint_hier:\n",
    "            p1 = pos[f][frame]\n",
    "            p2 = pos[t][frame]\n",
    "            x = [p1[0]*scale + frame, p2[0]*scale + frame]\n",
    "            y = [p1[1], p2[1]]\n",
    "            lines.append(Line2D(x, y, color=c))\n",
    "            ax.scatter(x, y, color=c, alpha=0.9)\n",
    "            \n",
    "        for l in lines:\n",
    "            ax.add_line(l)\n",
    "        \n",
    "    ax.set_xlim(min(keyframes) - scale//10, max(keyframes) + scale//10)\n",
    "    ax.set_ylim(scale, -scale)\n",
    "    #ax.set_ylim(0.5*scale, -0.25*scale)\n",
    "    ax.set_xticks(tuple(keyframes))\n",
    "    ax.set_xticklabels(keyframes)\n",
    "    ax.set(xlabel='Keyframes')\n",
    "    "
   ]
  },
  {
   "cell_type": "code",
   "execution_count": null,
   "metadata": {},
   "outputs": [],
   "source": []
  }
 ],
 "metadata": {
  "kernelspec": {
   "display_name": "Python 3",
   "language": "python",
   "name": "python3"
  },
  "language_info": {
   "codemirror_mode": {
    "name": "ipython",
    "version": 3
   },
   "file_extension": ".py",
   "mimetype": "text/x-python",
   "name": "python",
   "nbconvert_exporter": "python",
   "pygments_lexer": "ipython3",
   "version": "3.6.8"
  }
 },
 "nbformat": 4,
 "nbformat_minor": 2
}
