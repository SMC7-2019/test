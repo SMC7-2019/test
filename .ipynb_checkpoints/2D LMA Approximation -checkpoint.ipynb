{
 "cells": [
  {
   "cell_type": "code",
   "execution_count": 1,
   "metadata": {},
   "outputs": [
    {
     "name": "stdout",
     "output_type": "stream",
     "text": [
      "No such file on disk\n"
     ]
    }
   ],
   "source": [
    "import numpy as np\n",
    "import json\n",
    "\n",
    "try:\n",
    "    with open(\"joint_data.json\") as file:\n",
    "        joint_data = json.load(file)\n",
    "except FileNotFoundError:\n",
    "    joint_data = {}\n",
    "    print('No such file on disk')"
   ]
  },
  {
   "cell_type": "code",
   "execution_count": 2,
   "metadata": {},
   "outputs": [],
   "source": [
    "'''\n",
    "TODO: Append 2D-vectors (tuples) together\n",
    "      Make appropriate assertions\n",
    "'''\n",
    "\n",
    "joint_positions = {}\n",
    "for root_key in joint_data:\n",
    "    nested_dict = joint_data[root_key]\n",
    "    for joint_key in nested_dict:\n",
    "        joint_position = np.asarray(nested_dict[joint_key]).reshape(2,)\n",
    "        \n",
    "        if not joint_key in joint_positions:\n",
    "            joint_positions[joint_key] = joint_position\n",
    "        else:\n",
    "            prev = joint_positions[joint_key]\n",
    "            joint_positions[joint_key] = np.append(prev, joint_position, axis=0)"
   ]
  },
  {
   "cell_type": "code",
   "execution_count": 6,
   "metadata": {},
   "outputs": [],
   "source": [
    "def avgfilter (inp, npoints):\n",
    "    \n",
    "    '''\n",
    "    TODO: Make workable with 2xN array\n",
    "          Make appropriate assertions\n",
    "    '''\n",
    "    \n",
    "    coef = 1. / float(npoints)\n",
    "    vals = np.concatenate((np.zeros((npoints,)), inp), axis=0)    \n",
    "    end = len(vals)\n",
    "    \n",
    "    y = np.zeros_like(inp)\n",
    "    for p in range(npoints):\n",
    "        y = y + vals[npoints-p:end-p]*coef\n",
    "    \n",
    "    return y\n",
    "\n",
    "def assert_filt(c1, c2):\n",
    "    assert len(c1) == len(c2), \\\n",
    "        'leny (%d) != lenp (%d)' %(len(c1), len(c2))\n",
    "\n",
    "    \n",
    "joint_velocities = {}\n",
    "joint_accelerations = {}\n",
    "for joint in joint_positions:\n",
    "    positions = joint_positions[joint]\n",
    "    y = avgfilter(positions, npoints=2)\n",
    "    assert_filt(y, positions)\n",
    "    joint_positions[joint] = y\n",
    "    \n",
    "    '''\n",
    "    TODO: Compute euclidean distances at accel/veloc estimations\n",
    "    '''\n",
    "    \n",
    "    # assume velocity of first reading is zero\n",
    "    velocities = np.zeros_like(positions)\n",
    "    velocities[1:] = positions[1:] - positions[0:len(positions)-1] # !!! Euclidean distance\n",
    "    y = avgfilter(velocities, npoints=7)\n",
    "    assert_filt(y, velocities)\n",
    "    joint_velocities[joint] = y\n",
    "    \n",
    "    # assume acceleration of first reading is zero\n",
    "    accelerations = np.zeros_like(positions)\n",
    "    accelerations[1:] = velocities[1:] - velocities[0:len(velocities)-1] # !!! Euclidean distance\n",
    "    y = avgfilter(accelerations, npoints=7)\n",
    "    assert_filt(y, accelerations)\n",
    "    joint_accelerations[joint] = y\n",
    "    \n",
    "    "
   ]
  },
  {
   "cell_type": "code",
   "execution_count": 26,
   "metadata": {},
   "outputs": [],
   "source": [
    "pp = np.arange(36).reshape((18, 2))"
   ]
  },
  {
   "cell_type": "code",
   "execution_count": 28,
   "metadata": {},
   "outputs": [
    {
     "name": "stdout",
     "output_type": "stream",
     "text": [
      "[[0 1]\n",
      " [2 3]\n",
      " [4 5]\n",
      " [6 7]\n",
      " [8 9]]\n"
     ]
    }
   ],
   "source": [
    "pp.shape\n",
    "print(pp[0:5])\n",
    "\n",
    "\n"
   ]
  },
  {
   "cell_type": "code",
   "execution_count": null,
   "metadata": {},
   "outputs": [],
   "source": []
  }
 ],
 "metadata": {
  "kernelspec": {
   "display_name": "Python 3",
   "language": "python",
   "name": "python3"
  },
  "language_info": {
   "codemirror_mode": {
    "name": "ipython",
    "version": 3
   },
   "file_extension": ".py",
   "mimetype": "text/x-python",
   "name": "python",
   "nbconvert_exporter": "python",
   "pygments_lexer": "ipython3",
   "version": "3.6.8"
  }
 },
 "nbformat": 4,
 "nbformat_minor": 2
}
