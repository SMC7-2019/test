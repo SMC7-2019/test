{
 "cells": [
  {
   "cell_type": "code",
   "execution_count": 2,
   "metadata": {},
   "outputs": [],
   "source": [
    "import pandas as pd\n",
    "from LMAJSONUtil import LMAJSONUtil\n",
    "from LMAJSONUtil import joint_keys, joint_indeces, meta_keys\n",
    "from LMAApproximator import LMARunner"
   ]
  },
  {
   "cell_type": "code",
   "execution_count": 3,
   "metadata": {},
   "outputs": [
    {
     "name": "stdout",
     "output_type": "stream",
     "text": [
      "[*]  Processed 191 files\n",
      "[*] Processing: [##################################################] 100.0%"
     ]
    }
   ],
   "source": [
    "util = LMAJSONUtil(joint_keys, joint_indeces, meta_keys)\n",
    "segments = util.get_video_segments('./json/partial/', None)\n",
    "runner = LMARunner(segments)"
   ]
  },
  {
   "cell_type": "code",
   "execution_count": 7,
   "metadata": {},
   "outputs": [],
   "source": [
    "motion_features_raw = runner.motion_features_raw\n",
    "mf_columns = ['Weight', 'Time', 'Space']\n",
    "mf_dataframe = pd.DataFrame(motion_features_raw, columns=mf_columns)\n",
    "\n",
    "bea_encoded = runner.bea_encoded_\n",
    "bea_df = bea_encoded.reshape((bea_encoded.shape[0]*bea_encoded.shape[1], bea_encoded.shape[2]))\n",
    "bea_columns = ['Float', 'Flick', 'Wring', 'Slash', 'Glide', 'Dab', 'Press', 'Punch']\n",
    "bea_dataframe = pd.DataFrame(bea_df, columns=bea_columns)"
   ]
  },
  {
   "cell_type": "code",
   "execution_count": 8,
   "metadata": {},
   "outputs": [
    {
     "name": "stdout",
     "output_type": "stream",
     "text": [
      "         Weight      Time     Space\n",
      "0     98.477959  0.234006  0.112705\n",
      "1     40.152252  0.184012  0.284597\n",
      "2      6.151209  0.275579  0.154961\n",
      "3     17.496756  0.205873  0.101792\n",
      "4      6.469656  0.171965  0.198080\n",
      "..          ...       ...       ...\n",
      "759   17.455691  0.499045  0.128652\n",
      "760   15.779422  0.660935  0.076555\n",
      "761   10.964912  0.334249  0.170254\n",
      "762  117.075080  0.401131  0.189629\n",
      "763  191.452445  0.613753  0.162805\n",
      "\n",
      "[764 rows x 3 columns]\n",
      "     Float  Flick  Wring  Slash  Glide  Dab  Press  Punch\n",
      "0      0.0    0.0    0.0    0.0    1.0  0.0    0.0    0.0\n",
      "1      1.0    0.0    0.0    0.0    0.0  0.0    0.0    0.0\n",
      "2      1.0    0.0    0.0    0.0    0.0  0.0    0.0    0.0\n",
      "3      1.0    0.0    0.0    0.0    0.0  0.0    0.0    0.0\n",
      "4      1.0    0.0    0.0    0.0    0.0  0.0    0.0    0.0\n",
      "..     ...    ...    ...    ...    ...  ...    ...    ...\n",
      "759    1.0    0.0    0.0    0.0    0.0  0.0    0.0    0.0\n",
      "760    0.0    0.0    1.0    0.0    0.0  0.0    0.0    0.0\n",
      "761    1.0    0.0    0.0    0.0    0.0  0.0    0.0    0.0\n",
      "762    0.0    0.0    0.0    0.0    1.0  0.0    0.0    0.0\n",
      "763    0.0    0.0    0.0    0.0    0.0  0.0    1.0    0.0\n",
      "\n",
      "[764 rows x 8 columns]\n"
     ]
    }
   ],
   "source": [
    "print(mf_dataframe)\n",
    "print(bea_dataframe)"
   ]
  },
  {
   "cell_type": "code",
   "execution_count": null,
   "metadata": {},
   "outputs": [],
   "source": []
  }
 ],
 "metadata": {
  "kernelspec": {
   "display_name": "Python 3",
   "language": "python",
   "name": "python3"
  },
  "language_info": {
   "codemirror_mode": {
    "name": "ipython",
    "version": 3
   },
   "file_extension": ".py",
   "mimetype": "text/x-python",
   "name": "python",
   "nbconvert_exporter": "python",
   "pygments_lexer": "ipython3",
   "version": "3.6.8"
  }
 },
 "nbformat": 4,
 "nbformat_minor": 2
}
