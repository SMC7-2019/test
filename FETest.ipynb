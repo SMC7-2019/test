{
 "cells": [
  {
   "cell_type": "code",
   "execution_count": 1,
   "metadata": {},
   "outputs": [
    {
     "name": "stdout",
     "output_type": "stream",
     "text": [
      "<module 'lmadatagen' from '/Users/SophusOlsen/Desktop/lmadatagen/lmadatagen/__init__.py'>\n"
     ]
    }
   ],
   "source": [
    "import numpy as np\n",
    "import lmadatagen as ldg\n",
    "print(ldg)"
   ]
  },
  {
   "cell_type": "code",
   "execution_count": 2,
   "metadata": {},
   "outputs": [
    {
     "name": "stdout",
     "output_type": "stream",
     "text": [
      "[*]  Processed 191 files"
     ]
    }
   ],
   "source": [
    "'''\n",
    "    Fetch the raw video chunks stored .json files \n",
    "    from the disc. We can use cached data if they files\n",
    "    have been previously loaded.\n",
    "    \n",
    "    variables 'joint_indeces', 'joint_keys' and 'meta_keys'\n",
    "    are automatically imported with LMADataGenerator package.\n",
    "    \n",
    "'''\n",
    "\n",
    "ret_from_disc = False\n",
    "path_to_json = './json/partial/'\n",
    "\n",
    "json_util = ldg.LMAJSONUtil(ldg.joint_keys, ldg.joint_indeces, ldg.meta_keys)\n",
    "\n",
    "# Load the video chunks as a list.\n",
    "segments = json_util.get_video_segments(\n",
    "    path_to_json,\n",
    "    not ret_from_disc,\n",
    "    ret_from_disc\n",
    ")"
   ]
  },
  {
   "cell_type": "code",
   "execution_count": 3,
   "metadata": {},
   "outputs": [],
   "source": [
    "'''\n",
    "    Compute and extract motion features (based on LMA) from the motion\n",
    "    data acquired through openpose. Various hyperparameters can be setup\n",
    "    before extraction.\n",
    "    \n",
    "    We can setup hyperparameters for each available feature. The features are:\n",
    "    [0] weight\n",
    "    [1] time\n",
    "    [2] space\n",
    "    [3] flow\n",
    "    [4] shape\n",
    "    \n",
    "    The hyperparameter is a LIST containig a 3D-tuple with the following meanings:\n",
    "    \n",
    "    TUPLE = (feature, effector, weights)\n",
    "    LIST = [TUPLE0 ... TUPLE4]\n",
    "    \n",
    "    The LIST does not need to contain exactly 5 values, but it cannot exceed this limit.\n",
    "    An effector is joint that is included in the computation of the feature. \n",
    "    The weights are a list of values (any numbers) corresponding to how important the\n",
    "    correspoding effector is. \n",
    "    \n",
    "'''\n",
    "\n",
    "# Hyperparameter for feature computation\n",
    "effectors_weights_ = [\n",
    "    ('time', ['head', 'leftWrist', 'rightWrist'], [0.1, 0.45, 0.45]),\n",
    "    ('weight', None, np.ones((len(ldg.joint_keys), ))),\n",
    "]\n",
    "\n",
    "gestures_per_batch_ = 7\n",
    "\n",
    "# Setup the parameters (static function call)\n",
    "ldg.LMARunner.set_lma_hyperparams(\n",
    "    gestures_per_batch=gestures_per_batch_,\n",
    "    effectors_weights=effectors_weights_\n",
    ")"
   ]
  },
  {
   "cell_type": "code",
   "execution_count": 4,
   "metadata": {},
   "outputs": [
    {
     "name": "stdout",
     "output_type": "stream",
     "text": [
      "[*]  Processing: [##################################################] 100.0%"
     ]
    }
   ],
   "source": [
    "# Extract the motion features by passing in the video\n",
    "# segments we retrieved above\n",
    "runner = ldg.LMARunner(segments)"
   ]
  },
  {
   "cell_type": "code",
   "execution_count": 5,
   "metadata": {},
   "outputs": [
    {
     "name": "stdout",
     "output_type": "stream",
     "text": [
      "         weight       time     space        flow        shape\n",
      "0     88.688098   4.378872  0.112384  545.300751   481.038961\n",
      "1      0.361943   2.249049  0.370871  110.990511  1325.490612\n",
      "2     21.312160   3.560174  0.453155  335.806578   702.722973\n",
      "3      2.132541   4.258193  0.216591  473.722960   266.640053\n",
      "4      2.803054   5.450719  0.153876  538.861774   580.925353\n",
      "...         ...        ...       ...         ...          ...\n",
      "1332   1.983928   5.527320  0.243542  396.081096   526.294786\n",
      "1333   7.431495   6.472742  0.091779  505.621665  4177.964824\n",
      "1334   4.981218   7.163544  0.215162  523.919876   933.744652\n",
      "1335  56.452119  12.823697  0.545561  956.074068   244.133830\n",
      "1336  91.710755  12.039334  0.162681  977.849381   544.525544\n",
      "\n",
      "[1337 rows x 5 columns]\n"
     ]
    }
   ],
   "source": [
    "# Retrieve the features as a pandas \"DataFrame\"\n",
    "motion_features = runner.dataframe()\n",
    "print(motion_features)"
   ]
  },
  {
   "cell_type": "code",
   "execution_count": null,
   "metadata": {},
   "outputs": [],
   "source": []
  }
 ],
 "metadata": {
  "kernelspec": {
   "display_name": "Python 3",
   "language": "python",
   "name": "python3"
  },
  "language_info": {
   "codemirror_mode": {
    "name": "ipython",
    "version": 3
   },
   "file_extension": ".py",
   "mimetype": "text/x-python",
   "name": "python",
   "nbconvert_exporter": "python",
   "pygments_lexer": "ipython3",
   "version": "3.6.8"
  }
 },
 "nbformat": 4,
 "nbformat_minor": 2
}
