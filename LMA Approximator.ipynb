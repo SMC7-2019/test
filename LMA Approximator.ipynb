{
 "cells": [
  {
   "cell_type": "code",
   "execution_count": 1,
   "metadata": {},
   "outputs": [],
   "source": [
    "import numpy as np"
   ]
  },
  {
   "cell_type": "code",
   "execution_count": null,
   "metadata": {},
   "outputs": [],
   "source": [
    "def length(vector, axis=1):\n",
    "    return np.linalg.norm(vector, ord=None, axis=axis)\n",
    "\n",
    "def avgfilter(signal, npoints):\n",
    "    if len(signal.shape) is 1:\n",
    "        shape = (npoints, )\n",
    "    else:\n",
    "        shape = (npoints, signal.shape[1])\n",
    "\n",
    "    coef = 1. / float(npoints)\n",
    "    transients = np.zeros(shape)\n",
    "    vals = np.concatenate((transients, signal), axis=0)    \n",
    "    end = vals.shape[0]\n",
    "\n",
    "    y = np.zeros_like(signal)\n",
    "    for p in range(npoints):\n",
    "        y = y + vals[npoints-p:end-p]*coef\n",
    "\n",
    "    return y"
   ]
  },
  {
   "cell_type": "code",
   "execution_count": 2,
   "metadata": {},
   "outputs": [],
   "source": [
    "class Gesture(object):\n",
    "    \n",
    "    def __init__(self):\n",
    "        pass\n",
    "\n",
    "    \n",
    "class LabanApproximator(object):\n",
    "    \n",
    "    def __init__(self, lma_segment):\n",
    "        self.frameRate = lma_segment.meta_data['frameRate']\n",
    "        self.joint_keys = lma_segment.joint_keys\n",
    "        self.joint_positions = lma_segment.joint_data\n",
    "        self.joint_thresholds = lma_segment.segmentation_thresholds\n",
    "        \n",
    "    def __joint_velocities(self):\n",
    "        return []\n",
    "        \n",
    "    def __joint_accelerations(self):\n",
    "        return []\n",
    "        \n",
    "    \n",
    "        \n",
    "        \n",
    "        \n",
    "        \n",
    "        \n",
    "        "
   ]
  }
 ],
 "metadata": {
  "kernelspec": {
   "display_name": "Python 3",
   "language": "python",
   "name": "python3"
  },
  "language_info": {
   "codemirror_mode": {
    "name": "ipython",
    "version": 3
   },
   "file_extension": ".py",
   "mimetype": "text/x-python",
   "name": "python",
   "nbconvert_exporter": "python",
   "pygments_lexer": "ipython3",
   "version": "3.6.8"
  }
 },
 "nbformat": 4,
 "nbformat_minor": 2
}
